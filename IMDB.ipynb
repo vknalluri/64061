{
  "nbformat": 4,
  "nbformat_minor": 0,
  "metadata": {
    "colab": {
      "name": "Untitled0.ipynb",
      "provenance": [],
      "collapsed_sections": [],
      "authorship_tag": "ABX9TyOsmeuRO3Wk/xF+6c4Bdvbt",
      "include_colab_link": true
    },
    "kernelspec": {
      "name": "python3",
      "display_name": "Python 3"
    },
    "language_info": {
      "name": "python"
    }
  },
  "cells": [
    {
      "cell_type": "markdown",
      "metadata": {
        "id": "view-in-github",
        "colab_type": "text"
      },
      "source": [
        "<a href=\"https://colab.research.google.com/github/vknalluri/64061/blob/main/IMDB.ipynb\" target=\"_parent\"><img src=\"https://colab.research.google.com/assets/colab-badge.svg\" alt=\"Open In Colab\"/></a>"
      ]
    },
    {
      "cell_type": "markdown",
      "source": [
        "Importing Keras Package."
      ],
      "metadata": {
        "id": "v0I6m7uiEXOZ"
      }
    },
    {
      "cell_type": "code",
      "execution_count": 3,
      "metadata": {
        "colab": {
          "base_uri": "https://localhost:8080/",
          "height": 35
        },
        "id": "FbIXjKkrqR_c",
        "outputId": "9671e4cc-15d2-41aa-99a9-a94747b5602c"
      },
      "outputs": [
        {
          "output_type": "execute_result",
          "data": {
            "application/vnd.google.colaboratory.intrinsic+json": {
              "type": "string"
            },
            "text/plain": [
              "'2.8.0'"
            ]
          },
          "metadata": {},
          "execution_count": 3
        }
      ],
      "source": [
        "import keras\n",
        "keras.__version__"
      ]
    },
    {
      "cell_type": "markdown",
      "source": [
        "Importing IMDB Dataset from Keras and splitting the data into Training and Testing sets along with Labels.\n",
        "\n",
        "We are using the most frequently used 10000 words disregarding the other words.\n"
      ],
      "metadata": {
        "id": "oPcQ-B7zEfgI"
      }
    },
    {
      "cell_type": "code",
      "source": [
        "from keras.datasets import imdb\n",
        "\n",
        "(train_data, train_labels), (test_data, test_labels) = imdb.load_data(num_words=10000)"
      ],
      "metadata": {
        "id": "rkTJFx5Lqtex"
      },
      "execution_count": 4,
      "outputs": []
    },
    {
      "cell_type": "markdown",
      "source": [
        "Displaying the Training Data and Training Lables"
      ],
      "metadata": {
        "id": "MiJvhgT3FUYF"
      }
    },
    {
      "cell_type": "code",
      "source": [
        "train_data[0]"
      ],
      "metadata": {
        "colab": {
          "base_uri": "https://localhost:8080/"
        },
        "id": "MRIeEjUIrSgl",
        "outputId": "d05dbf46-40a1-49bf-81b2-6c1fcdef73d3"
      },
      "execution_count": 5,
      "outputs": [
        {
          "output_type": "execute_result",
          "data": {
            "text/plain": [
              "[1,\n",
              " 14,\n",
              " 22,\n",
              " 16,\n",
              " 43,\n",
              " 530,\n",
              " 973,\n",
              " 1622,\n",
              " 1385,\n",
              " 65,\n",
              " 458,\n",
              " 4468,\n",
              " 66,\n",
              " 3941,\n",
              " 4,\n",
              " 173,\n",
              " 36,\n",
              " 256,\n",
              " 5,\n",
              " 25,\n",
              " 100,\n",
              " 43,\n",
              " 838,\n",
              " 112,\n",
              " 50,\n",
              " 670,\n",
              " 2,\n",
              " 9,\n",
              " 35,\n",
              " 480,\n",
              " 284,\n",
              " 5,\n",
              " 150,\n",
              " 4,\n",
              " 172,\n",
              " 112,\n",
              " 167,\n",
              " 2,\n",
              " 336,\n",
              " 385,\n",
              " 39,\n",
              " 4,\n",
              " 172,\n",
              " 4536,\n",
              " 1111,\n",
              " 17,\n",
              " 546,\n",
              " 38,\n",
              " 13,\n",
              " 447,\n",
              " 4,\n",
              " 192,\n",
              " 50,\n",
              " 16,\n",
              " 6,\n",
              " 147,\n",
              " 2025,\n",
              " 19,\n",
              " 14,\n",
              " 22,\n",
              " 4,\n",
              " 1920,\n",
              " 4613,\n",
              " 469,\n",
              " 4,\n",
              " 22,\n",
              " 71,\n",
              " 87,\n",
              " 12,\n",
              " 16,\n",
              " 43,\n",
              " 530,\n",
              " 38,\n",
              " 76,\n",
              " 15,\n",
              " 13,\n",
              " 1247,\n",
              " 4,\n",
              " 22,\n",
              " 17,\n",
              " 515,\n",
              " 17,\n",
              " 12,\n",
              " 16,\n",
              " 626,\n",
              " 18,\n",
              " 2,\n",
              " 5,\n",
              " 62,\n",
              " 386,\n",
              " 12,\n",
              " 8,\n",
              " 316,\n",
              " 8,\n",
              " 106,\n",
              " 5,\n",
              " 4,\n",
              " 2223,\n",
              " 5244,\n",
              " 16,\n",
              " 480,\n",
              " 66,\n",
              " 3785,\n",
              " 33,\n",
              " 4,\n",
              " 130,\n",
              " 12,\n",
              " 16,\n",
              " 38,\n",
              " 619,\n",
              " 5,\n",
              " 25,\n",
              " 124,\n",
              " 51,\n",
              " 36,\n",
              " 135,\n",
              " 48,\n",
              " 25,\n",
              " 1415,\n",
              " 33,\n",
              " 6,\n",
              " 22,\n",
              " 12,\n",
              " 215,\n",
              " 28,\n",
              " 77,\n",
              " 52,\n",
              " 5,\n",
              " 14,\n",
              " 407,\n",
              " 16,\n",
              " 82,\n",
              " 2,\n",
              " 8,\n",
              " 4,\n",
              " 107,\n",
              " 117,\n",
              " 5952,\n",
              " 15,\n",
              " 256,\n",
              " 4,\n",
              " 2,\n",
              " 7,\n",
              " 3766,\n",
              " 5,\n",
              " 723,\n",
              " 36,\n",
              " 71,\n",
              " 43,\n",
              " 530,\n",
              " 476,\n",
              " 26,\n",
              " 400,\n",
              " 317,\n",
              " 46,\n",
              " 7,\n",
              " 4,\n",
              " 2,\n",
              " 1029,\n",
              " 13,\n",
              " 104,\n",
              " 88,\n",
              " 4,\n",
              " 381,\n",
              " 15,\n",
              " 297,\n",
              " 98,\n",
              " 32,\n",
              " 2071,\n",
              " 56,\n",
              " 26,\n",
              " 141,\n",
              " 6,\n",
              " 194,\n",
              " 7486,\n",
              " 18,\n",
              " 4,\n",
              " 226,\n",
              " 22,\n",
              " 21,\n",
              " 134,\n",
              " 476,\n",
              " 26,\n",
              " 480,\n",
              " 5,\n",
              " 144,\n",
              " 30,\n",
              " 5535,\n",
              " 18,\n",
              " 51,\n",
              " 36,\n",
              " 28,\n",
              " 224,\n",
              " 92,\n",
              " 25,\n",
              " 104,\n",
              " 4,\n",
              " 226,\n",
              " 65,\n",
              " 16,\n",
              " 38,\n",
              " 1334,\n",
              " 88,\n",
              " 12,\n",
              " 16,\n",
              " 283,\n",
              " 5,\n",
              " 16,\n",
              " 4472,\n",
              " 113,\n",
              " 103,\n",
              " 32,\n",
              " 15,\n",
              " 16,\n",
              " 5345,\n",
              " 19,\n",
              " 178,\n",
              " 32]"
            ]
          },
          "metadata": {},
          "execution_count": 5
        }
      ]
    },
    {
      "cell_type": "code",
      "source": [
        "train_labels[0]"
      ],
      "metadata": {
        "colab": {
          "base_uri": "https://localhost:8080/"
        },
        "id": "DClj2tT9rxNJ",
        "outputId": "988218e3-f12b-40a5-b640-30031738585c"
      },
      "execution_count": 6,
      "outputs": [
        {
          "output_type": "execute_result",
          "data": {
            "text/plain": [
              "1"
            ]
          },
          "metadata": {},
          "execution_count": 6
        }
      ]
    },
    {
      "cell_type": "markdown",
      "source": [
        "Modifying the data into integers (vectorizing or concerting into tensors)using one hot encoding."
      ],
      "metadata": {
        "id": "y3D8cfvnFy4Y"
      }
    },
    {
      "cell_type": "code",
      "source": [
        "import numpy as np\n",
        "\n",
        "def vectorize_sequences(sequences, dimension=10000):\n",
        "    # Create an all-zero matrix of shape (len(sequences), dimension)\n",
        "    results = np.zeros((len(sequences), dimension))\n",
        "    for i, sequence in enumerate(sequences):\n",
        "        results[i, sequence] = 1.  # set specific indices of results[i] to 1s\n",
        "    return results\n",
        "\n",
        "# Our vectorized training data\n",
        "x_train = vectorize_sequences(train_data)\n",
        "# Our vectorized test data\n",
        "x_test = vectorize_sequences(test_data)"
      ],
      "metadata": {
        "id": "ytpkvPKDsr7L"
      },
      "execution_count": 7,
      "outputs": []
    },
    {
      "cell_type": "markdown",
      "source": [
        "Displaying the training data after vectorizing"
      ],
      "metadata": {
        "id": "l9s8xCXKGU9j"
      }
    },
    {
      "cell_type": "code",
      "source": [
        "x_train[0]"
      ],
      "metadata": {
        "colab": {
          "base_uri": "https://localhost:8080/"
        },
        "id": "DhfEV992tFBI",
        "outputId": "bc53e63d-5776-4cb9-ea07-2eef2d367205"
      },
      "execution_count": 8,
      "outputs": [
        {
          "output_type": "execute_result",
          "data": {
            "text/plain": [
              "array([0., 1., 1., ..., 0., 0., 0.])"
            ]
          },
          "metadata": {},
          "execution_count": 8
        }
      ]
    },
    {
      "cell_type": "markdown",
      "source": [
        "Vectorization of Labels"
      ],
      "metadata": {
        "id": "uM2HrlUhGdZS"
      }
    },
    {
      "cell_type": "code",
      "source": [
        "# Our vectorized labels\n",
        "y_train = np.asarray(train_labels).astype('float32')\n",
        "y_test = np.asarray(test_labels).astype('float32')"
      ],
      "metadata": {
        "id": "OdkHRvh5tOcg"
      },
      "execution_count": 9,
      "outputs": []
    },
    {
      "cell_type": "markdown",
      "source": [
        "Building the network (Hypothesis space); 16 nodes in the first hidden layer and 16 nodes in the second hidden layer and 1 node in the output layer.\n",
        "\n",
        "First two layers use Relu activation and the last layer use Sigmoid as output should give probabilities.\n"
      ],
      "metadata": {
        "id": "e6UkVWzhGhM1"
      }
    },
    {
      "cell_type": "code",
      "source": [
        "from keras import models\n",
        "from keras import layers\n",
        "from keras.layers import Dropout\n",
        "from keras.constraints import maxnorm\n",
        "\n",
        "model = models.Sequential()\n",
        "model.add(Dropout(0.2, input_shape=(10000,)))\n",
        "model.add(layers.Dense(16, activation='relu',kernel_constraint=maxnorm(3)))\n",
        "model.add(layers.Dense(16, activation='relu',kernel_constraint=maxnorm(3)))\n",
        "model.add(layers.Dense(1, activation='sigmoid'))"
      ],
      "metadata": {
        "id": "VRC2aEuJtRc9"
      },
      "execution_count": 10,
      "outputs": []
    },
    {
      "cell_type": "markdown",
      "source": [
        "Implementing Optimizer along with loss function. We will use Binary Crossentropy as the loss function as its the most appropriate one for binary data."
      ],
      "metadata": {
        "id": "7aKl4W_rHweX"
      }
    },
    {
      "cell_type": "code",
      "source": [
        "\n",
        "from tensorflow.keras.optimizers import RMSprop\n",
        "\n",
        "rmsprop = RMSprop(learning_rate=0.1, momentum=0.9)\n",
        "model.compile(optimizer='rmsprop',\n",
        "              loss='binary_crossentropy',\n",
        "              metrics=['accuracy'])"
      ],
      "metadata": {
        "id": "2Vr9gcvztd93"
      },
      "execution_count": 11,
      "outputs": []
    },
    {
      "cell_type": "markdown",
      "source": [
        "Creating Validation sets and validation labels from x_train , y_train to test (intermediate testing) the model after training without using the test set yet."
      ],
      "metadata": {
        "id": "jHsYXfmXJib6"
      }
    },
    {
      "cell_type": "code",
      "source": [
        "x_val = x_train[:10000]\n",
        "partial_x_train = x_train[10000:]\n",
        "\n",
        "y_val = y_train[:10000]\n",
        "partial_y_train = y_train[10000:]"
      ],
      "metadata": {
        "id": "v4aVlYVntjBJ"
      },
      "execution_count": 12,
      "outputs": []
    },
    {
      "cell_type": "markdown",
      "source": [
        "Training the model with a batch size of 512 for 20 epochs.\n",
        "\n",
        "From the results , we can see that though trainig loss is decreasing for each epoch,  validation loss decreased till 4 epochs and then started to going up afterwards, indicating that 4 epochs are ideal."
      ],
      "metadata": {
        "id": "hDLLbFjgJ599"
      }
    },
    {
      "cell_type": "code",
      "source": [
        "history = model.fit(partial_x_train,\n",
        "                    partial_y_train,\n",
        "                    epochs=20,\n",
        "                    batch_size=512,\n",
        "                    validation_data=(x_val, y_val))"
      ],
      "metadata": {
        "colab": {
          "base_uri": "https://localhost:8080/"
        },
        "id": "u08vnERot7W9",
        "outputId": "d5dd2d84-7034-41a6-b559-1a587407cdee"
      },
      "execution_count": 13,
      "outputs": [
        {
          "output_type": "stream",
          "name": "stdout",
          "text": [
            "Epoch 1/20\n",
            "30/30 [==============================] - 5s 121ms/step - loss: 0.5499 - accuracy: 0.7471 - val_loss: 0.4171 - val_accuracy: 0.8704\n",
            "Epoch 2/20\n",
            "30/30 [==============================] - 3s 86ms/step - loss: 0.3465 - accuracy: 0.8873 - val_loss: 0.3161 - val_accuracy: 0.8896\n",
            "Epoch 3/20\n",
            "30/30 [==============================] - 3s 91ms/step - loss: 0.2603 - accuracy: 0.9097 - val_loss: 0.2885 - val_accuracy: 0.8888\n",
            "Epoch 4/20\n",
            "30/30 [==============================] - 3s 94ms/step - loss: 0.2193 - accuracy: 0.9203 - val_loss: 0.2735 - val_accuracy: 0.8916\n",
            "Epoch 5/20\n",
            "30/30 [==============================] - 3s 84ms/step - loss: 0.1928 - accuracy: 0.9291 - val_loss: 0.2762 - val_accuracy: 0.8890\n",
            "Epoch 6/20\n",
            "30/30 [==============================] - 3s 89ms/step - loss: 0.1732 - accuracy: 0.9362 - val_loss: 0.3040 - val_accuracy: 0.8798\n",
            "Epoch 7/20\n",
            "30/30 [==============================] - 2s 82ms/step - loss: 0.1613 - accuracy: 0.9387 - val_loss: 0.2928 - val_accuracy: 0.8869\n",
            "Epoch 8/20\n",
            "30/30 [==============================] - 3s 92ms/step - loss: 0.1437 - accuracy: 0.9456 - val_loss: 0.2960 - val_accuracy: 0.8854\n",
            "Epoch 9/20\n",
            "30/30 [==============================] - 3s 90ms/step - loss: 0.1431 - accuracy: 0.9448 - val_loss: 0.3008 - val_accuracy: 0.8848\n",
            "Epoch 10/20\n",
            "30/30 [==============================] - 3s 92ms/step - loss: 0.1305 - accuracy: 0.9537 - val_loss: 0.3039 - val_accuracy: 0.8856\n",
            "Epoch 11/20\n",
            "30/30 [==============================] - 3s 113ms/step - loss: 0.1265 - accuracy: 0.9529 - val_loss: 0.3587 - val_accuracy: 0.8685\n",
            "Epoch 12/20\n",
            "30/30 [==============================] - 3s 89ms/step - loss: 0.1283 - accuracy: 0.9525 - val_loss: 0.3399 - val_accuracy: 0.8740\n",
            "Epoch 13/20\n",
            "30/30 [==============================] - 3s 85ms/step - loss: 0.1182 - accuracy: 0.9567 - val_loss: 0.3392 - val_accuracy: 0.8748\n",
            "Epoch 14/20\n",
            "30/30 [==============================] - 2s 82ms/step - loss: 0.1162 - accuracy: 0.9564 - val_loss: 0.3315 - val_accuracy: 0.8780\n",
            "Epoch 15/20\n",
            "30/30 [==============================] - 3s 103ms/step - loss: 0.1076 - accuracy: 0.9629 - val_loss: 0.3943 - val_accuracy: 0.8638\n",
            "Epoch 16/20\n",
            "30/30 [==============================] - 3s 87ms/step - loss: 0.1088 - accuracy: 0.9597 - val_loss: 0.3438 - val_accuracy: 0.8780\n",
            "Epoch 17/20\n",
            "30/30 [==============================] - 3s 87ms/step - loss: 0.1072 - accuracy: 0.9592 - val_loss: 0.3645 - val_accuracy: 0.8733\n",
            "Epoch 18/20\n",
            "30/30 [==============================] - 2s 82ms/step - loss: 0.1075 - accuracy: 0.9594 - val_loss: 0.3547 - val_accuracy: 0.8747\n",
            "Epoch 19/20\n",
            "30/30 [==============================] - 3s 93ms/step - loss: 0.1019 - accuracy: 0.9618 - val_loss: 0.3611 - val_accuracy: 0.8758\n",
            "Epoch 20/20\n",
            "30/30 [==============================] - 3s 86ms/step - loss: 0.1014 - accuracy: 0.9631 - val_loss: 0.3714 - val_accuracy: 0.8749\n"
          ]
        }
      ]
    },
    {
      "cell_type": "markdown",
      "source": [
        "Displaying the history (part of History object resulting from the training) member."
      ],
      "metadata": {
        "id": "qZXuj3Z5LT61"
      }
    },
    {
      "cell_type": "code",
      "source": [
        "history_dict = history.history\n",
        "history_dict.keys()"
      ],
      "metadata": {
        "colab": {
          "base_uri": "https://localhost:8080/"
        },
        "id": "x6zXS_I6tmef",
        "outputId": "fa7ce8e7-9c13-4955-9d78-70c7f70bd09b"
      },
      "execution_count": 14,
      "outputs": [
        {
          "output_type": "execute_result",
          "data": {
            "text/plain": [
              "dict_keys(['loss', 'accuracy', 'val_loss', 'val_accuracy'])"
            ]
          },
          "metadata": {},
          "execution_count": 14
        }
      ]
    },
    {
      "cell_type": "markdown",
      "source": [
        "Plotiing the training loss vs validation loss."
      ],
      "metadata": {
        "id": "yiqNFGOULe99"
      }
    },
    {
      "cell_type": "code",
      "source": [
        "import matplotlib.pyplot as plt\n",
        "\n",
        "accuracy = history.history['accuracy']\n",
        "val_accuracy = history.history['val_accuracy']\n",
        "loss = history.history['loss']\n",
        "val_loss = history.history['val_loss']\n",
        "\n",
        "epochs = range(1, len(accuracy) + 1)\n",
        "\n",
        "# \"bo\" is for \"blue dot\"\n",
        "plt.plot(epochs, loss, 'bo', label='Training loss')\n",
        "# b is for \"solid blue line\"\n",
        "plt.plot(epochs, val_loss, 'b', label='Validation loss')\n",
        "plt.title('Training and validation loss')\n",
        "plt.xlabel('Epochs')\n",
        "plt.ylabel('Loss')\n",
        "plt.legend()\n",
        "\n",
        "plt.show()"
      ],
      "metadata": {
        "colab": {
          "base_uri": "https://localhost:8080/",
          "height": 295
        },
        "id": "NJKErO_SuWHV",
        "outputId": "d0630895-696e-4777-ac22-cea43745ba30"
      },
      "execution_count": 15,
      "outputs": [
        {
          "output_type": "display_data",
          "data": {
            "image/png": "[encoded data removed]",
            "text/plain": [
              "<Figure size 432x288 with 1 Axes>"
            ]
          },
          "metadata": {
            "needs_background": "light"
          }
        }
      ]
    },
    {
      "cell_type": "markdown",
      "source": [
        "Plotiing the training accuracy vs validation accuracy. Even validation accuracy started to go down after 3 epochs. \n",
        "\n",
        "Therefore, model is over fitting after 3/4 epochs. Hence we should stick to a maximum 4 epochs for trainig the model."
      ],
      "metadata": {
        "id": "O7pL2o3mNZ51"
      }
    },
    {
      "cell_type": "code",
      "source": [
        "plt.clf()   # clear figure\n",
        "acc_values = history_dict['accuracy']\n",
        "val_acc_values = history_dict['val_accuracy']\n",
        "\n",
        "plt.plot(epochs, accuracy, 'bo', label='Training accuracy')\n",
        "plt.plot(epochs, val_accuracy, 'b', label='Validation accuracy')\n",
        "plt.title('Training and validation accuracy')\n",
        "plt.xlabel('Epochs')\n",
        "plt.ylabel('Accuracy')\n",
        "plt.legend()\n",
        "\n",
        "plt.show()"
      ],
      "metadata": {
        "colab": {
          "base_uri": "https://localhost:8080/",
          "height": 295
        },
        "id": "zDpoHM2BvBsf",
        "outputId": "809643e1-c8f3-4cd7-8744-03dfac20ac2e"
      },
      "execution_count": 16,
      "outputs": [
        {
          "output_type": "display_data",
          "data": {
            "image/png": "[encoded data removed]",
            "text/plain": [
              "<Figure size 432x288 with 1 Axes>"
            ]
          },
          "metadata": {
            "needs_background": "light"
          }
        }
      ]
    },
    {
      "cell_type": "markdown",
      "source": [
        "Re-training the model with 4 epochs without changing any other (hyper)parameters and then evaluating the model on test data.\n"
      ],
      "metadata": {
        "id": "WJtBZ4zSN87i"
      }
    },
    {
      "cell_type": "code",
      "source": [
        "model = models.Sequential()\n",
        "model.add(layers.Dense(16, activation='relu', input_shape=(10000,)))\n",
        "model.add(layers.Dense(16, activation='relu'))\n",
        "model.add(layers.Dense(1, activation='sigmoid'))\n",
        "\n",
        "model.compile(optimizer='rmsprop',\n",
        "              loss='binary_crossentropy',\n",
        "              metrics=['accuracy'])\n",
        "\n",
        "model.fit(x_train, y_train, epochs=4, batch_size=512)\n",
        "results = model.evaluate(x_test, y_test)"
      ],
      "metadata": {
        "colab": {
          "base_uri": "https://localhost:8080/"
        },
        "id": "rV_ZDe7ivYwS",
        "outputId": "8f926ea1-8215-4ddd-b468-17c71368e3dc"
      },
      "execution_count": 17,
      "outputs": [
        {
          "output_type": "stream",
          "name": "stdout",
          "text": [
            "Epoch 1/4\n",
            "49/49 [==============================] - 2s 31ms/step - loss: 0.4647 - accuracy: 0.8292\n",
            "Epoch 2/4\n",
            "49/49 [==============================] - 2s 33ms/step - loss: 0.2705 - accuracy: 0.9086\n",
            "Epoch 3/4\n",
            "49/49 [==============================] - 2s 34ms/step - loss: 0.2074 - accuracy: 0.9268\n",
            "Epoch 4/4\n",
            "49/49 [==============================] - 1s 30ms/step - loss: 0.1739 - accuracy: 0.9368\n",
            "782/782 [==============================] - 2s 3ms/step - loss: 0.3087 - accuracy: 0.8768\n"
          ]
        }
      ]
    },
    {
      "cell_type": "markdown",
      "source": [
        "Displaying the accuracy and loss on test data. accuracy is at 88%."
      ],
      "metadata": {
        "id": "BbzLdCL0QJmZ"
      }
    },
    {
      "cell_type": "code",
      "source": [
        "results"
      ],
      "metadata": {
        "colab": {
          "base_uri": "https://localhost:8080/"
        },
        "id": "M-j9ho2ovcDf",
        "outputId": "218619da-4957-4062-9317-9ab21f1f1cbc"
      },
      "execution_count": 18,
      "outputs": [
        {
          "output_type": "execute_result",
          "data": {
            "text/plain": [
              "[0.3086718022823334, 0.876800000667572]"
            ]
          },
          "metadata": {},
          "execution_count": 18
        }
      ]
    },
    {
      "cell_type": "markdown",
      "source": [
        "Predicting the output probabilities for the test data. Probability is as high as 0.99 for some and very poor for some."
      ],
      "metadata": {
        "id": "sTx9UobSQqsw"
      }
    },
    {
      "cell_type": "code",
      "source": [
        "model.predict(x_test)"
      ],
      "metadata": {
        "colab": {
          "base_uri": "https://localhost:8080/"
        },
        "id": "x_xO1A8rviu0",
        "outputId": "25f494a4-a361-4e2d-b9eb-57e4f0d17d02"
      },
      "execution_count": 19,
      "outputs": [
        {
          "output_type": "execute_result",
          "data": {
            "text/plain": [
              "array([[0.16366974],\n",
              "       [0.99905634],\n",
              "       [0.6301286 ],\n",
              "       ...,\n",
              "       [0.09937429],\n",
              "       [0.04858908],\n",
              "       [0.46389464]], dtype=float32)"
            ]
          },
          "metadata": {},
          "execution_count": 19
        }
      ]
    },
    {
      "cell_type": "markdown",
      "source": [
        "1. There is no change in the results if we decrease one hidden layer. However, if we add another layer then the validation loss is going up after 3 epochs and accuracy is also going down after 3 epochs.\n",
        "\n",
        "2. When we decrease the nodes from 16 to 8 then the optimal epochs are seen at 5 , where as if we increase the node size to 32 its seen at 2 and also a bit of zig zag results.\n",
        "\n",
        "3. when MSE is used as loss function optimal is seen at 4 epochs.\n",
        "\n",
        "4. When tanh activation is used validation loss is going up after 3 epochs and accuracy is going down after 3 epochs.\n",
        "\n",
        "5.After applying drop out validation loss is going up after 4 epochs and so accuracy is decreasing. Nevertheless, test accuracy has dropped a bit.\n",
        "\n",
        "Dropout rate is 20% and learniong rate is increased by 0.9 from the default rate of 0.01.\n",
        "Note: All the comments are for the original settings\n",
        "\n",
        "\n"
      ],
      "metadata": {
        "id": "_mvKyunWRYtl"
      }
    }
  ]
}